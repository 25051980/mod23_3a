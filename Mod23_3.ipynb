{
 "cells": [
  {
   "cell_type": "markdown",
   "id": "c2174f2d-cdee-47d4-b50a-d82d537ddbc4",
   "metadata": {},
   "source": [
    "# Principais Hiperparâmetros do Random Forest\n",
    "\n",
    "O Random Forest possui vários hiperparâmetros importantes que influenciam como ele faz as previsões. Aqui estão os principais hiperparâmetros explicados de forma simples:\n",
    "\n",
    "1. **n_estimators**: É o número de árvores na floresta. Quanto mais árvores, mais robusto é o modelo, mas também pode demorar mais para treinar.\n",
    "\n",
    "2. **max_depth**: Controla a profundidade máxima de cada árvore. Árvores mais profundas capturam mais detalhes, mas podem acabar \"decorando\" demais o conjunto de dados, o que leva ao *overfitting* (quando o modelo se adapta muito aos dados de treino e não generaliza bem para novos dados).\n",
    "\n",
    "3. **min_samples_split**: É o número mínimo de amostras necessárias para dividir um nó (ponto de decisão) dentro de uma árvore. Se esse número for alto, cada árvore fica mais simples e tem menos divisões, o que ajuda a evitar *overfitting*.\n",
    "\n",
    "4. **min_samples_leaf**: Define o número mínimo de amostras que um nó folha (último nó da árvore) deve ter. Valores mais altos resultam em árvores mais generalizadas, o que pode ajudar a evitar *overfitting*.\n",
    "\n",
    "5. **max_features**: Controla o número máximo de características (ou variáveis) consideradas em cada divisão de uma árvore. Pode ser um valor fixo (como \"raiz quadrada\" ou \"logaritmo\" do número total de características) ou uma porcentagem. Limitar o número de características ajuda a criar árvores mais diversas dentro da floresta, aumentando a precisão geral do modelo.\n",
    "\n",
    "6. **bootstrap**: Este parâmetro controla se a amostragem será com ou sem reposição ao criar subconjuntos para cada árvore. Quando é verdadeiro, cada árvore é treinada com uma amostra com reposição do conjunto de dados, o que ajuda a aumentar a diversidade das árvores e evita *overfitting*.\n",
    "\n",
    "7. **random_state**: É uma \"semente\" para gerar números aleatórios, o que ajuda a garantir que os resultados do modelo sejam os mesmos toda vez que ele é executado, o que é útil para reproduzir experimentos.\n",
    "\n",
    "Esses são os principais hiperparâmetros do Random Forest. Ajustar cada um deles permite controlar o equilíbrio entre a precisão do modelo e o risco de *overfitting* (quando o modelo é complexo demais e memoriza o treinamento) ou *underfitting* (quando o modelo é muito simples para capturar a complexidade dos dados).\n"
   ]
  },
  {
   "cell_type": "code",
   "execution_count": null,
   "id": "be774843-fd37-4622-8ea3-cf864fb9cd32",
   "metadata": {},
   "outputs": [],
   "source": []
  }
 ],
 "metadata": {
  "kernelspec": {
   "display_name": "Python 3 (ipykernel)",
   "language": "python",
   "name": "python3"
  },
  "language_info": {
   "codemirror_mode": {
    "name": "ipython",
    "version": 3
   },
   "file_extension": ".py",
   "mimetype": "text/x-python",
   "name": "python",
   "nbconvert_exporter": "python",
   "pygments_lexer": "ipython3",
   "version": "3.11.7"
  }
 },
 "nbformat": 4,
 "nbformat_minor": 5
}
